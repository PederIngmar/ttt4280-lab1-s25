{
 "cells": [
  {
   "cell_type": "markdown",
   "metadata": {},
   "source": [
    "# Lab 1\n",
    "\n",
    "## Forberedelses oppgaver\n",
    "\n",
    "### Oppgave 1"
   ]
  },
  {
   "cell_type": "code",
   "execution_count": 1,
   "metadata": {},
   "outputs": [
    {
     "data": {
      "image/svg+xml": [
       "<svg xmlns=\"http://www.w3.org/2000/svg\" xmlns:xlink=\"http://www.w3.org/1999/xlink\" host=\"65bd71144e\" version=\"1.1\" width=\"443\" height=\"195\" viewBox=\"-0.5 -0.5 443 195\" content=\"&lt;mxfile&gt;&lt;diagram id=&quot;MM1MQ7lEkRevW3HVAEAJ&quot; name=&quot;Page-1&quot;&gt;7VjbUtswEP2aPJbxJcbOIySkfShThrTT8qjEG1tEsVJZufXru7JlW4pjBqiZzrSYGfAe7eq2R0eLB/54ffgoyCa95TGwgefEh4E/GXie6w8j/KOQY4kEw7AEEkHjEnIaYEZ/gY6s0C2NIddYCUnOmaQbG1zwLIOFtDAiBN/bbkvOYgvYkASsaShgtiAMWm7faSzTEo0Cw/sT0CStRnYd3TIni1Ui+DbT4w08f1k8ZfOaVH1p/zwlMd8bg/o3A38sOJfl2/owBqb21t62aUdrPW8BmXxOQKjzkstjtXaIcSu0CWzO9zcNcF0sDVSwg1Yq1wxfXXzNJRHySm09AnPGF6uvKc2wAbL4PCzF8YcOLowH1elFUJmTgx6ktI7ayqXgKxhzxgUiMSzJlslymCll1mxMOyUbtZ4lg4OezXW5cLXazr3TUM63YqG9Qs1sHCAB7RZ5debwRABfA84YfQQwIunO7p9oaia1X5MefNEZKsxvOYgv80dFcM9hZA6sDL0n+RyEOG6onosAuC8oY4xTZzgyJqezb2R7n1IJsw0p1rfH02ynlTCaYLomC9wTwB2/VmNN8TjRLNEuCrnluwbIwKTMZBDiVl/+3PIiTXVDDQ38K6PdJlzj5I0bw+Da+V4ynnXF1nR8VmQ4wd9L5FFFODzPUDwtKmLLdOrgU1NrB0LC4WlytUmjA4aui2ehCNIaGl6W5r4RJNfTbEwNMbqMXkw0NA2udSjFqKUUthhwIVOe8Iywz5xvNBceQcqj1neylfwJ0Si2vlMvyjN4B4LiYkAoxpaMixQFi8PY0WjqWTNHU9RqLTLk58GUpg4tggOVRhhaD0ZLE6SMRr8aZXLautWbTkVOW6csKehRp1pcqQbfEbbVvV5Nxh/wZibHFoteqkDqWFG8qq90w5rGcZHG/1CaWhLk+1qCTkRrGagfhfNMWv7q6UmyqhAtWO7IbyuWMzqjWEEPlHNblJshPwhbURbDO+n+xn3oOKNRX/dhEEUn5Aqq+9Gil3OGXk5vldfd+BkVl1UOvldcb8kw9Uyn/TDMC0KLYRXhDHpFYZtdw+GblFuR/++WW1XZZBZNdQnVV9n02n8wX1luVV8pzH8LnT8st3ToHaeZbHiKsnoROM3jWawdnfSnE1l2YX4IOOm1Dqz0dXhyKeukn3ZUULteXAfbm+8ZpXvz0ci/+Q0=&lt;/diagram&gt;&lt;/mxfile&gt;\" style=\"background-color: rgb(255, 255, 255);\">\n",
       "    <defs>\n",
       "        <filter id=\"dropShadow\">\n",
       "            <feGaussianBlur in=\"SourceAlpha\" stdDeviation=\"1.7\" result=\"blur\"/>\n",
       "            <feOffset in=\"blur\" dx=\"3\" dy=\"3\" result=\"offsetBlur\"/>\n",
       "            <feFlood flood-color=\"#3D4574\" flood-opacity=\"0.4\" result=\"offsetColor\"/>\n",
       "            <feComposite in=\"offsetColor\" in2=\"offsetBlur\" operator=\"in\" result=\"offsetBlur\"/>\n",
       "            <feBlend in=\"SourceGraphic\" in2=\"offsetBlur\"/>\n",
       "        </filter>\n",
       "    </defs>\n",
       "    <g filter=\"url(#dropShadow)\">\n",
       "        <path d=\"M 135 29 L 135 18.5 L 154 34 L 135 49.5 L 135 39 L 120.83 39 L 106.5 39 L 106.5 49.5 L 87.5 34 L 106.5 18.5 L 106.5 29 L 120.83 29 Z\" fill=\"none\" stroke=\"rgb(0, 0, 0)\" stroke-miterlimit=\"1.42\" pointer-events=\"all\"/>\n",
       "        <path d=\"M 135 29 L 135 18.5 L 154 34 L 135 49.5 L 135 39\" fill=\"none\" stroke=\"rgb(0, 0, 0)\" stroke-miterlimit=\"4\" pointer-events=\"all\"/>\n",
       "        <path d=\"M 106.5 39 L 106.5 49.5 L 87.5 34 L 106.5 18.5 L 106.5 29\" fill=\"none\" stroke=\"rgb(0, 0, 0)\" stroke-miterlimit=\"4\" pointer-events=\"all\"/>\n",
       "        <rect x=\"154.5\" y=\"0\" width=\"128\" height=\"68\" fill=\"#eeeeee\" stroke=\"#ff0000\" pointer-events=\"all\"/>\n",
       "        <g transform=\"translate(-0.5 -0.5)\">\n",
       "            <switch>\n",
       "                <foreignObject pointer-events=\"none\" width=\"100%\" height=\"100%\" requiredFeatures=\"http://www.w3.org/TR/SVG11/feature#Extensibility\" style=\"overflow: visible; text-align: left;\">\n",
       "                    <div xmlns=\"http://www.w3.org/1999/xhtml\" style=\"display: flex; align-items: unsafe center; justify-content: unsafe center; width: 126px; height: 1px; padding-top: 34px; margin-left: 156px;\">\n",
       "                        <div data-drawio-colors=\"color: rgb(0, 0, 0); \" style=\"box-sizing: border-box; font-size: 0px; text-align: center;\">\n",
       "                            <div style=\"display: inline-block; font-size: 12px; font-family: Helvetica; color: rgb(0, 0, 0); line-height: 1.2; pointer-events: all; white-space: normal; overflow-wrap: normal;\">\n",
       "                                Rasberrypi\n",
       "                            </div>\n",
       "                        </div>\n",
       "                    </div>\n",
       "                </foreignObject>\n",
       "                <text x=\"219\" y=\"38\" fill=\"rgb(0, 0, 0)\" font-family=\"Helvetica\" font-size=\"12px\" text-anchor=\"middle\">\n",
       "                    Rasberrypi\n",
       "                </text>\n",
       "            </switch>\n",
       "        </g>\n",
       "        <path d=\"M 223.5 116.5 L 213.5 116.5 L 213.5 87.5 L 203 87.5 L 218.5 68.5 L 234 87.5 L 223.5 87.5 Z\" fill=\"none\" stroke=\"rgb(0, 0, 0)\" stroke-miterlimit=\"10\" pointer-events=\"all\"/>\n",
       "        <rect x=\"164\" y=\"117\" width=\"109\" height=\"65\" fill=\"#f5f5f5\" stroke=\"#330000\" pointer-events=\"all\"/>\n",
       "        <g transform=\"translate(-0.5 -0.5)\">\n",
       "            <switch>\n",
       "                <foreignObject pointer-events=\"none\" width=\"100%\" height=\"100%\" requiredFeatures=\"http://www.w3.org/TR/SVG11/feature#Extensibility\" style=\"overflow: visible; text-align: left;\">\n",
       "                    <div xmlns=\"http://www.w3.org/1999/xhtml\" style=\"display: flex; align-items: unsafe center; justify-content: unsafe center; width: 107px; height: 1px; padding-top: 150px; margin-left: 165px;\">\n",
       "                        <div data-drawio-colors=\"color: #333333; \" style=\"box-sizing: border-box; font-size: 0px; text-align: center;\">\n",
       "                            <div style=\"display: inline-block; font-size: 12px; font-family: Helvetica; color: rgb(51, 51, 51); line-height: 1.2; pointer-events: all; white-space: normal; overflow-wrap: normal;\">\n",
       "                                ADC-array\n",
       "                            </div>\n",
       "                        </div>\n",
       "                    </div>\n",
       "                </foreignObject>\n",
       "                <text x=\"219\" y=\"153\" fill=\"#333333\" font-family=\"Helvetica\" font-size=\"12px\" text-anchor=\"middle\">\n",
       "                    ADC-array\n",
       "                </text>\n",
       "            </switch>\n",
       "        </g>\n",
       "        <rect x=\"331\" y=\"119.5\" width=\"100\" height=\"60\" fill=\"#eeeeee\" stroke=\"#009900\" pointer-events=\"all\"/>\n",
       "        <g transform=\"translate(-0.5 -0.5)\">\n",
       "            <switch>\n",
       "                <foreignObject pointer-events=\"none\" width=\"100%\" height=\"100%\" requiredFeatures=\"http://www.w3.org/TR/SVG11/feature#Extensibility\" style=\"overflow: visible; text-align: left;\">\n",
       "                    <div xmlns=\"http://www.w3.org/1999/xhtml\" style=\"display: flex; align-items: unsafe center; justify-content: unsafe center; width: 98px; height: 1px; padding-top: 150px; margin-left: 332px;\">\n",
       "                        <div data-drawio-colors=\"color: rgb(0, 0, 0); \" style=\"box-sizing: border-box; font-size: 0px; text-align: center;\">\n",
       "                            <div style=\"display: inline-block; font-size: 12px; font-family: Helvetica; color: rgb(0, 0, 0); line-height: 1.2; pointer-events: all; white-space: normal; overflow-wrap: normal;\">\n",
       "                                Signalkilde\n",
       "                            </div>\n",
       "                        </div>\n",
       "                    </div>\n",
       "                </foreignObject>\n",
       "                <text x=\"381\" y=\"153\" fill=\"rgb(0, 0, 0)\" font-family=\"Helvetica\" font-size=\"12px\" text-anchor=\"middle\">\n",
       "                    Signalkilde\n",
       "                </text>\n",
       "            </switch>\n",
       "        </g>\n",
       "        <rect x=\"0\" y=\"12\" width=\"87\" height=\"44\" fill=\"#eeeeee\" stroke=\"#3333ff\" pointer-events=\"all\"/>\n",
       "        <g transform=\"translate(-0.5 -0.5)\">\n",
       "            <switch>\n",
       "                <foreignObject pointer-events=\"none\" width=\"100%\" height=\"100%\" requiredFeatures=\"http://www.w3.org/TR/SVG11/feature#Extensibility\" style=\"overflow: visible; text-align: left;\">\n",
       "                    <div xmlns=\"http://www.w3.org/1999/xhtml\" style=\"display: flex; align-items: unsafe center; justify-content: unsafe center; width: 85px; height: 1px; padding-top: 34px; margin-left: 1px;\">\n",
       "                        <div data-drawio-colors=\"color: rgb(0, 0, 0); \" style=\"box-sizing: border-box; font-size: 0px; text-align: center;\">\n",
       "                            <div style=\"display: inline-block; font-size: 12px; font-family: Helvetica; color: rgb(0, 0, 0); line-height: 1.2; pointer-events: all; white-space: normal; overflow-wrap: normal;\">\n",
       "                                PC\n",
       "                            </div>\n",
       "                        </div>\n",
       "                    </div>\n",
       "                </foreignObject>\n",
       "                <text x=\"44\" y=\"38\" fill=\"rgb(0, 0, 0)\" font-family=\"Helvetica\" font-size=\"12px\" text-anchor=\"middle\">\n",
       "                    PC\n",
       "                </text>\n",
       "            </switch>\n",
       "        </g>\n",
       "        <path d=\"M 330.5 144.5 L 330.5 154.5 L 292.5 154.5 L 292.5 165 L 273.5 149.5 L 292.5 134 L 292.5 144.5 Z\" fill=\"none\" stroke=\"rgb(0, 0, 0)\" stroke-miterlimit=\"10\" pointer-events=\"all\"/>\n",
       "    </g>\n",
       "    <switch>\n",
       "        <g requiredFeatures=\"http://www.w3.org/TR/SVG11/feature#Extensibility\"/>\n",
       "        <a transform=\"translate(0,-5)\" xlink:href=\"https://www.diagrams.net/doc/faq/svg-export-text-problems\" target=\"_blank\">\n",
       "            <text text-anchor=\"middle\" font-size=\"10px\" x=\"50%\" y=\"100%\">\n",
       "                Text is not SVG - cannot display\n",
       "            </text>\n",
       "        </a>\n",
       "    </switch>\n",
       "</svg>"
      ],
      "text/plain": [
       "<IPython.core.display.SVG object>"
      ]
     },
     "metadata": {},
     "output_type": "display_data"
    }
   ],
   "source": [
    "from IPython.display import SVG, display\n",
    "\n",
    "# Display the SVG file\n",
    "display(SVG(filename=\"blockdiagram.drawio.svg\"))"
   ]
  },
  {
   "cell_type": "markdown",
   "metadata": {},
   "source": [
    "### Oppgave 2\n",
    "\n",
    "#### a)\n",
    "\n",
    "Fra fig 5-1 - 2 clk cycle for lade opp test-kondensator (T-sample), 1 til null bit, 12 bit data, 1 til å sette cs\n",
    "tot: 16\n",
    "\n",
    "### b)\n",
    "12 bit oppløsning\n",
    "\n",
    "#### c)\n",
    "max rating fo $V_d$ is 7V\n",
    "\n",
    "$max\\{f_{s}\\} = \\frac{ max\\{f_{clk}\\} }{ N } = 1.6 MHz$\n",
    "N: antall klokke sykler\n",
    "$f_{s}$: sampling frekvens\n",
    "$f_{clk}$: klokkefrekvens\n",
    "\n",
    "\n"
   ]
  },
  {
   "cell_type": "code",
   "execution_count": 2,
   "metadata": {},
   "outputs": [],
   "source": [
    "import dataget"
   ]
  },
  {
   "cell_type": "code",
   "execution_count": null,
   "metadata": {},
   "outputs": [],
   "source": []
  }
 ],
 "metadata": {
  "kernelspec": {
   "display_name": "sensor",
   "language": "python",
   "name": "python3"
  },
  "language_info": {
   "codemirror_mode": {
    "name": "ipython",
    "version": 3
   },
   "file_extension": ".py",
   "mimetype": "text/x-python",
   "name": "python",
   "nbconvert_exporter": "python",
   "pygments_lexer": "ipython3",
   "version": "3.13.1"
  }
 },
 "nbformat": 4,
 "nbformat_minor": 2
}
